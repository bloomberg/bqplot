{
 "cells": [
  {
   "cell_type": "code",
   "execution_count": null,
   "metadata": {},
   "outputs": [],
   "source": [
    "import bqplot\n",
    "import bqplot.pyplot as plt\n",
    "import ipywidgets as widgets\n",
    "import numpy as np\n",
    "default_size = 20"
   ]
  },
  {
   "cell_type": "code",
   "execution_count": null,
   "metadata": {},
   "outputs": [],
   "source": [
    "dtype = np.float32\n",
    "N = int(1e6)\n",
    "np.random.seed(42)\n",
    "x, y, z = np.random.normal(0, 3, (3, N)).astype(dtype)\n",
    "u = 10**(np.random.normal(1.0, 0.4, N).astype(dtype))\n",
    "v, w = np.random.random((2, N)).astype(dtype)\n",
    "\n",
    "s = 15\n",
    "scales1 = {'x': bqplot.LinearScale(min=-s, max=s),\n",
    "          'y': bqplot.LinearScale(min=-s, max=s),\n",
    "          'color': bqplot.ColorScale(min=0, max=1),\n",
    "          'size': bqplot.LinearScale(min=0, max=100),\n",
    "         'opacity': bqplot.LinearScale(min=0, max=2)\n",
    "         }\n",
    "scales2 = dict(scales1)\n",
    "scales2.update({'x': bqplot.LinearScale(min=0, max=20), 'y': bqplot.LinearScale(min=-s, max=s)})\n",
    "\n",
    "selected_style = dict(fill='steelblue')\n",
    "\n",
    "fig1 = plt.figure()\n",
    "scatter1 = plt.scatter(x, y, opacity=v, size=u, color=w, scales=scales1,\n",
    "                     selected_style=selected_style, stroke_width=0.5)\n",
    "\n",
    "fig2 = plt.figure()\n",
    "r = np.sqrt(x**2+y**2)\n",
    "scatter2 = plt.scatter(r, z, opacity=v, size=u, color=w, scales=scales2,\n",
    "                     selected_style=selected_style, stroke_width=0.5)\n",
    "\n",
    "fig2.layout.width = fig1.layout.width = '99%'\n",
    "fig2.layout.max_width = fig1.layout.max_width = '500px'\n",
    "box1 = widgets.VBox([fig1, bqplot.Toolbar(figure=fig1)])\n",
    "box2 = widgets.VBox([fig2, bqplot.Toolbar(figure=fig2)])\n",
    "display(widgets.HBox([box1, box2]))"
   ]
  },
  {
   "cell_type": "code",
   "execution_count": null,
   "metadata": {},
   "outputs": [],
   "source": [
    "plt.lasso_selector();"
   ]
  },
  {
   "cell_type": "code",
   "execution_count": null,
   "metadata": {},
   "outputs": [],
   "source": [
    "widgets.jslink((scatter1, 'selected'), (scatter2, 'selected'))"
   ]
  },
  {
   "cell_type": "code",
   "execution_count": null,
   "metadata": {},
   "outputs": [],
   "source": []
  }
 ],
 "metadata": {
  "kernelspec": {
   "display_name": "Python 3",
   "language": "python",
   "name": "python3"
  },
  "language_info": {
   "codemirror_mode": {
    "name": "ipython",
    "version": 3
   },
   "file_extension": ".py",
   "mimetype": "text/x-python",
   "name": "python",
   "nbconvert_exporter": "python",
   "pygments_lexer": "ipython3",
   "version": "3.6.4"
  }
 },
 "nbformat": 4,
 "nbformat_minor": 2
}
