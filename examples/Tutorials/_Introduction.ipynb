{
 "cells": [
  {
   "cell_type": "markdown",
   "metadata": {
    "deletable": true,
    "editable": true
   },
   "source": [
    "### Introduction\n",
    "`bqplot` is an interactive plotting library for the Jupyter notebook. The real power of `bqplot` is its interactivity. All the attributes of the marks are implemented as <b>traits</b> which let the user register callbacks and listen to their updates. Since `bqplot` is build using the widget framework of `ipywidets` it can be easily integrated with `ipywidgets`.\n",
    "\n",
    "In the following the tutorials the user will learn how to build rich interactive visualizations. The tutorials take the user from simple usecases to advanced applications.\n",
    "\n",
    "1. [Gaussian Density](Gaussian Density.ipynb)\n",
    "* [Linear Regression](Linear Regression.ipynb)"
   ]
  }
 ],
 "metadata": {
  "kernelspec": {
   "display_name": "Python 3",
   "language": "python",
   "name": "python3"
  },
  "language_info": {
   "codemirror_mode": {
    "name": "ipython",
    "version": 3
   },
   "file_extension": ".py",
   "mimetype": "text/x-python",
   "name": "python",
   "nbconvert_exporter": "python",
   "pygments_lexer": "ipython3",
   "version": "3.6.0"
  }
 },
 "nbformat": 4,
 "nbformat_minor": 2
}
