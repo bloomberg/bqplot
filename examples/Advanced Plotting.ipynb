{
 "cells": [
  {
   "cell_type": "code",
   "execution_count": null,
   "metadata": {
    "collapsed": false,
    "input_collapsed": false
   },
   "outputs": [],
   "source": [
    "import numpy as np\n",
    "from IPython.display import display\n",
    "from bqplot import *"
   ]
  },
  {
   "cell_type": "code",
   "execution_count": null,
   "metadata": {
    "collapsed": false
   },
   "outputs": [],
   "source": [
    "size = 100\n",
    "x_data = range(size)\n",
    "np.random.seed(0)\n",
    "y_data = np.cumsum(np.random.randn(size) * 100.0)\n",
    "y_data_2 = np.cumsum(np.random.randn(size))\n",
    "y_data_3 = np.cumsum(np.random.randn(size) * 100.)"
   ]
  },
  {
   "cell_type": "markdown",
   "metadata": {},
   "source": [
    "## Multiple marks in a single figure"
   ]
  },
  {
   "cell_type": "code",
   "execution_count": null,
   "metadata": {
    "collapsed": false
   },
   "outputs": [],
   "source": [
    "sc_ord = CategoricalScale()\n",
    "sc_y = LinearScale()\n",
    "sc_y_2 = LinearScale()\n",
    "\n",
    "ord_ax = Axis(label='Test X', scale=sc_ord, tick_format='0.0f', grid_lines='none')\n",
    "y_ax = Axis(label='Test Y', scale=sc_y, \n",
    "            orientation='vertical', tick_format='0.2f', \n",
    "            grid_lines='solid')\n",
    "y_ax_2 = Axis(label='Test Y 2', scale=sc_y_2, \n",
    "              orientation='vertical', side='right', \n",
    "              tick_format='0.0f', grid_lines='solid')"
   ]
  },
  {
   "cell_type": "code",
   "execution_count": null,
   "metadata": {
    "collapsed": false
   },
   "outputs": [],
   "source": [
    "line_chart = Lines(x=x_data[:10], y = [y_data[:10], y_data_2[:10] * 100, y_data_3[:10]],\n",
    "                   scales={'x': sc_ord, 'y': sc_y},\n",
    "                   labels=['Line1', 'Line2', 'Line3'], \n",
    "                   display_legend=True)\n",
    "\n",
    "bar_chart = Bars(x=x_data[:10], \n",
    "                 y=[y_data[:10], y_data_2[:10] * 100, y_data_3[:10]], \n",
    "                 scales={'x': sc_ord, 'y': sc_y_2},\n",
    "                 labels=['Bar1', 'Bar2', 'Bar3'],\n",
    "                 display_legend=True)\n",
    "\n",
    "fig = Figure(axes=[ord_ax, y_ax],  marks=[bar_chart, line_chart], legend_location = 'bottom-left')\n",
    "\n",
    "# the line does not have a Y value set. So only the bars will be displayed\n",
    "display(fig)"
   ]
  },
  {
   "cell_type": "markdown",
   "metadata": {},
   "source": [
    "## Sample Histogram with mid-points set"
   ]
  },
  {
   "cell_type": "code",
   "execution_count": null,
   "metadata": {
    "collapsed": false
   },
   "outputs": [],
   "source": [
    "x_scale = LinearScale()\n",
    "y_scale = LinearScale()\n",
    "\n",
    "hist = Hist(sample=y_data, \n",
    "            colors=['orange'], \n",
    "            scales={'sample': x_scale, 'count': y_scale}, \n",
    "            labels=['Test Histogram'],\n",
    "            display_legend=True)\n",
    "\n",
    "x_ax = Axis(label='Test X', scale=x_scale, \n",
    "            tick_format='0.2f', grid_lines='none')\n",
    "\n",
    "y_ax_2 = Axis(label='Test Y', scale=y_scale, orientation='vertical', tick_format='0.2f', grid_lines='none')\n",
    "\n",
    "fig = Figure(axes=[x_ax, y_ax_2], marks=[hist])"
   ]
  },
  {
   "cell_type": "code",
   "execution_count": null,
   "metadata": {
    "collapsed": false
   },
   "outputs": [],
   "source": [
    "display(fig)"
   ]
  },
  {
   "cell_type": "code",
   "execution_count": null,
   "metadata": {
    "collapsed": true
   },
   "outputs": [],
   "source": [
    "# Setting the tick values to be the mid points of the bins\n",
    "x_ax.tick_values = hist.midpoints"
   ]
  },
  {
   "cell_type": "markdown",
   "metadata": {},
   "source": [
    "## Line Chart Log Scale"
   ]
  },
  {
   "cell_type": "code",
   "execution_count": null,
   "metadata": {
    "collapsed": false
   },
   "outputs": [],
   "source": [
    "dates_all = np.arange('2005-02', '2005-03', dtype='datetime64[D]')\n",
    "size = len(dates_all)\n",
    "final_prices = 100 + 5 * np.cumsum(np.random.randn(size))"
   ]
  },
  {
   "cell_type": "code",
   "execution_count": null,
   "metadata": {
    "collapsed": false
   },
   "outputs": [],
   "source": [
    "## Log scale for the Y axis\n",
    "dt_scale = DateScale()\n",
    "lsc = LogScale()\n",
    "\n",
    "ax_x = Axis(label='Date', scale=dt_scale, grid_lines='dashed')\n",
    "lax_y = Axis(label='Log Price', scale=lsc, orientation='vertical', tick_format='0.1f', grid_lines='solid')\n",
    "\n",
    "logline = Lines(x=dates_all, y=final_prices, scales={'x': dt_scale, 'y': lsc}, colors=['hotpink', 'orange'])\n",
    "logfig = Figure(axes=[ax_x, lax_y], marks=[logline], fig_margin = dict(left=100, right=100, top=100, bottom=70))\n",
    "display(logfig)"
   ]
  },
  {
   "cell_type": "markdown",
   "metadata": {},
   "source": [
    "## Multiple Marks with Categorical Scale"
   ]
  },
  {
   "cell_type": "code",
   "execution_count": null,
   "metadata": {
    "collapsed": false
   },
   "outputs": [],
   "source": [
    "# Plotting a bar and line chart on the same figure with x axis being an oridnal scale.\n",
    "ord_scale = CategoricalScale()\n",
    "lin_scale = LinearScale()\n",
    "\n",
    "bar_chart = Bars(x=x_data[:10],\n",
    "                 y=np.abs(y_data_3[:10]),\n",
    "                 scales={'x': ord_scale, 'y': lin_scale}, \n",
    "                 colors=['hotpink', 'orange', 'limegreen'],\n",
    "                 padding=0.5)\n",
    "\n",
    "line_chart = Lines(x=x_data[:10], \n",
    "                   y=np.abs(y_data[:10]), \n",
    "                   scales={'x': ord_scale, 'y': lin_scale}, \n",
    "                   colors=['hotpink', 'orange', 'limegreen'])\n",
    "bar_x = Axis(scale=ord_scale, orientation='horizontal', grid_lines='none', \n",
    "             set_ticks=True)\n",
    "bar_y = Axis(scale=lin_scale, orientation='vertical', grid_lines='none')\n",
    "fig_2 = Figure(axes=[bar_x, bar_y], marks=[bar_chart, line_chart])\n",
    "display(fig_2)"
   ]
  },
  {
   "cell_type": "markdown",
   "metadata": {},
   "source": [
    "## Setting min and max along an axis for plots"
   ]
  },
  {
   "cell_type": "code",
   "execution_count": null,
   "metadata": {
    "collapsed": false
   },
   "outputs": [],
   "source": [
    "sc_x = LinearScale(min=10, max=50)\n",
    "sc_y = LinearScale()\n",
    "\n",
    "x_data = np.arange(100)\n",
    "line_1 = Lines(x=x_data, y=y_data_2, scales={'x': sc_x, 'y': sc_y}, colors=['orange'])\n",
    "\n",
    "ax_x = Axis(scale=sc_x)\n",
    "ax_y = Axis(scale=sc_y, orientation='vertical', tick_format='.2f')\n",
    "fig = Figure(marks=[line_1], axes=[ax_x, ax_y])\n",
    "display(fig)"
   ]
  },
  {
   "cell_type": "code",
   "execution_count": null,
   "metadata": {
    "collapsed": true
   },
   "outputs": [],
   "source": [
    "## changing the min/max\n",
    "sc_x.min = -10\n",
    "sc_x.max = 110"
   ]
  },
  {
   "cell_type": "markdown",
   "metadata": {},
   "source": [
    "## Marks which do not affect the domain along an axis"
   ]
  },
  {
   "cell_type": "code",
   "execution_count": null,
   "metadata": {
    "collapsed": false
   },
   "outputs": [],
   "source": [
    "sc_x = LinearScale()\n",
    "sc_y = LinearScale()\n",
    "\n",
    "x_data = np.arange(50)\n",
    "\n",
    "line_1 = Lines(x=x_data, y=y_data, scales={'x': sc_x, 'y': sc_y}, colors=['blue'])\n",
    "line_2 = Lines(x=x_data, y=y_data * 2, scales={'x': sc_x, 'y': sc_y}, colors=['orangered'], preserve_domain={'y': True})\n",
    "\n",
    "ax_x = Axis(scale=sc_x)\n",
    "ax_y = Axis(scale=sc_y, orientation='vertical')\n",
    "fig = Figure(marks=[line_1, line_2], axes=[ax_x, ax_y])\n",
    "display(fig)"
   ]
  },
  {
   "cell_type": "code",
   "execution_count": null,
   "metadata": {
    "collapsed": false
   },
   "outputs": [],
   "source": [
    "with line_2.hold_sync():\n",
    "    line_2.preserve_domain={}"
   ]
  },
  {
   "cell_type": "markdown",
   "metadata": {},
   "source": [
    "## Preserve domain for color scale"
   ]
  },
  {
   "cell_type": "code",
   "execution_count": null,
   "metadata": {
    "collapsed": false
   },
   "outputs": [],
   "source": [
    "sc_x = LinearScale()\n",
    "sc_y = LinearScale()\n",
    "sc_col = ColorScale(colors=['red', 'white', 'green'], mid=0.0)\n",
    "\n",
    "x_data = np.arange(50)\n",
    "\n",
    "scatt_1 = Scatter(x=x_data, y=y_data[:50], color=y_data[:50], scales={'x': sc_x, 'y': sc_y, 'color': sc_col},marker='circle')\n",
    "scatt_2 = Scatter(x=x_data, y=y_data[:50] * 2, color=y_data[:50] * 2, scales={'x': sc_x, 'y': sc_y, 'color': sc_col}, \n",
    "               preserve_domain={'color': True}, marker='cross')\n",
    "\n",
    "ax_x = Axis(scale=sc_x)\n",
    "ax_y = Axis(scale=sc_y, orientation='vertical')\n",
    "fig = Figure(marks=[scatt_1, scatt_2], axes=[ax_x, ax_y])\n",
    "display(fig)"
   ]
  },
  {
   "cell_type": "markdown",
   "metadata": {},
   "source": [
    "## Reversing a scale"
   ]
  },
  {
   "cell_type": "code",
   "execution_count": null,
   "metadata": {
    "collapsed": false
   },
   "outputs": [],
   "source": [
    "sc_x = LinearScale(reverse=True)\n",
    "sc_y = LinearScale()\n",
    "\n",
    "x_data = np.arange(50)\n",
    "\n",
    "line_1 = Lines(x=x_data, y=y_data, scales={'x': sc_x, 'y': sc_y}, colors=['orange'])\n",
    "\n",
    "ax_x = Axis(scale=sc_x)\n",
    "ax_y = Axis(scale=sc_y, orientation='vertical')\n",
    "fig = Figure(marks=[line_1], axes=[ax_x, ax_y])\n",
    "display(fig)"
   ]
  },
  {
   "cell_type": "markdown",
   "metadata": {},
   "source": [
    "## Fixing the domain of an categorical scale"
   ]
  },
  {
   "cell_type": "code",
   "execution_count": null,
   "metadata": {
    "collapsed": false
   },
   "outputs": [],
   "source": [
    "cat_scale = CategoricalScale(domain=list(range(20)))\n",
    "y_scale = LinearScale()\n",
    "\n",
    "bar_chart = Bars(x=x_data[:10], \n",
    "                 y=[(y_data[:10]), y_data_2[:10] * 100, y_data_3[:10]], \n",
    "                 scales={'x': cat_scale, 'y': y_scale},\n",
    "                 colors=['hotpink', 'orange', 'limegreen'],\n",
    "                 labels=['Component 1', 'Component 2', 'Component 3'],\n",
    "                 display_legend=True)\n",
    "\n",
    "bar_x = Axis(scale=cat_scale, orientation='horizontal', set_ticks=True, grid_lines='none')\n",
    "bar_y = Axis(scale=y_scale, orientation='vertical', grid_lines='none')\n",
    "\n",
    "fig_2 = Figure(axes=[bar_x, bar_y], marks=[bar_chart])\n",
    "display(fig_2)"
   ]
  },
  {
   "cell_type": "markdown",
   "metadata": {},
   "source": [
    "## Applying clip to marks"
   ]
  },
  {
   "cell_type": "code",
   "execution_count": null,
   "metadata": {
    "collapsed": false
   },
   "outputs": [],
   "source": [
    "sc_x = LinearScale(min=10, max=90)\n",
    "sc_y = LinearScale()\n",
    "\n",
    "x_data = np.arange(100)\n",
    "line_1 = Lines(x=x_data, y=y_data_3, scales={'x': sc_x, 'y': sc_y}, colors=['orange'], labels=['Clipped Line'],\n",
    "               display_legend=True)\n",
    "line_2 = Lines(x=x_data, y=y_data, scales={'x': sc_x, 'y': sc_y}, apply_clip=False, colors=['orangered'], \n",
    "               labels=['Non clipped line'], display_legend=True)\n",
    "\n",
    "ax_x = Axis(scale=sc_x)\n",
    "ax_y = Axis(scale=sc_y, orientation='vertical')\n",
    "fig = Figure(marks=[line_1, line_2], axes=[ax_x, ax_y])\n",
    "display(fig)"
   ]
  },
  {
   "cell_type": "code",
   "execution_count": null,
   "metadata": {
    "collapsed": true
   },
   "outputs": [],
   "source": []
  },
  {
   "cell_type": "code",
   "execution_count": null,
   "metadata": {
    "collapsed": true
   },
   "outputs": [],
   "source": []
  },
  {
   "cell_type": "code",
   "execution_count": null,
   "metadata": {
    "collapsed": true
   },
   "outputs": [],
   "source": []
  },
  {
   "cell_type": "code",
   "execution_count": null,
   "metadata": {
    "collapsed": true
   },
   "outputs": [],
   "source": []
  },
  {
   "cell_type": "code",
   "execution_count": null,
   "metadata": {
    "collapsed": true
   },
   "outputs": [],
   "source": []
  },
  {
   "cell_type": "code",
   "execution_count": null,
   "metadata": {
    "collapsed": true
   },
   "outputs": [],
   "source": []
  },
  {
   "cell_type": "code",
   "execution_count": null,
   "metadata": {
    "collapsed": true
   },
   "outputs": [],
   "source": []
  },
  {
   "cell_type": "code",
   "execution_count": null,
   "metadata": {
    "collapsed": true
   },
   "outputs": [],
   "source": []
  }
 ],
 "metadata": {
  "kernelspec": {
   "display_name": "Python 2",
   "language": "python",
   "name": "python2"
  },
  "language_info": {
   "codemirror_mode": {
    "name": "ipython",
    "version": 2
   },
   "file_extension": ".py",
   "mimetype": "text/x-python",
   "name": "python",
   "nbconvert_exporter": "python",
   "pygments_lexer": "ipython2",
   "version": "2.7.11"
  },
  "widgets": {
   "state": {
    "04ead55cd1ae43448fec178c7f84a3bc": {
     "views": []
    },
    "078c70025f9f4c37a6d844936490d230": {
     "views": []
    },
    "0a2d7ecb01a846eb915136aa22dcb476": {
     "views": []
    },
    "0afd802255fb4e1f92ec2e2c18d4c751": {
     "views": []
    },
    "0c835e1842234893aa652cc88718f7a1": {
     "views": []
    },
    "0d35d91c847c481f9afa736ae1132560": {
     "views": []
    },
    "0e819c2747c849a18d39be6212bf2cf0": {
     "views": []
    },
    "10894a2045504c9282dca9c19218da69": {
     "views": []
    },
    "1107253c69884766867454fe35411b92": {
     "views": [
      {
       "cell_index": 25
      }
     ]
    },
    "11984041bdc04154a2c2d69f7e7087d1": {
     "views": []
    },
    "11e26367e9b34878803ef137fac696b3": {
     "views": []
    },
    "17546cd3ce8d468c99763f73ae71018c": {
     "views": []
    },
    "17ce233160f6479c92372f6d056276b7": {
     "views": []
    },
    "201debf39d6949f287cf51e03e517605": {
     "views": []
    },
    "20cc98ee6575476282703c15e9dd3100": {
     "views": []
    },
    "22812f928445495587a7f84378e9576f": {
     "views": []
    },
    "23e08531c76d4ad695731012f7e39cd3": {
     "views": []
    },
    "293f848cdc224e058dac0f3479b2bedb": {
     "views": []
    },
    "2f4d099a1f5a4d69827112134129f884": {
     "views": []
    },
    "2fd693b5197040dd9cf4a3299383a042": {
     "views": []
    },
    "3843b2293cb1404d9d00b2e8a5f46942": {
     "views": []
    },
    "39090d885d524368a9591a8acaf72682": {
     "views": []
    },
    "3cf603b408ae48548e1aba09ffa37c41": {
     "views": []
    },
    "3d6031f2716b4e63862739111d6b41fd": {
     "views": []
    },
    "3e0341edf1f848e6901a261887276d0c": {
     "views": [
      {
       "cell_index": 21
      }
     ]
    },
    "41090c2f727a46e4a17f5b04a28b91cd": {
     "views": []
    },
    "449bc43a7e5d45d182ee5d6056cb4f80": {
     "views": []
    },
    "450145cf38994d7bb999610652266b44": {
     "views": []
    },
    "460f593176234f738758f7276cd30a55": {
     "views": []
    },
    "486309f91e944a8ebbc500f5c215f5ea": {
     "views": []
    },
    "486e7ede5d534bf08882c95eb3522c18": {
     "views": []
    },
    "4a3bebad2cd34949b07d9b3b6dad37ca": {
     "views": []
    },
    "4b320bf23f234fd6afab6fb38ab73516": {
     "views": []
    },
    "4b64785449bf47a1bedf2cefe1a7829e": {
     "views": []
    },
    "4c4d7418d53d453c955d18877d8e0b67": {
     "views": []
    },
    "50efb69a7c714dc3810b46081f6c7751": {
     "views": []
    },
    "52ef7821810b43199434e6e2c9cc4e7e": {
     "views": [
      {
       "cell_index": 18
      }
     ]
    },
    "59fcad001d9144ba845b0a8f95e497a6": {
     "views": []
    },
    "5af387ab331546c7b96b1f708dbf9df4": {
     "views": []
    },
    "5b108974d9e3470a831085e5de33cd02": {
     "views": []
    },
    "63b956f3cbfa40189f5f05b445ec0f97": {
     "views": []
    },
    "65c647294f774722b5b51e31789741f2": {
     "views": [
      {
       "cell_index": 27
      }
     ]
    },
    "6b532cb58340484695a8df0f95421508": {
     "views": []
    },
    "75612601f7274a85b7bdff43764dae53": {
     "views": []
    },
    "76b42dfd36d34389bb1eda3caabe7e90": {
     "views": []
    },
    "827729d111684010a8402e5cc222d2fb": {
     "views": []
    },
    "8a61bd9d8f244813bd4505340d4542a8": {
     "views": []
    },
    "8e8b65e353864f51ade14d8e94997adc": {
     "views": []
    },
    "945175a134ba458e9aa0d0bc85ad1d69": {
     "views": []
    },
    "9547b1722d364e4cacab1da3ec84bf62": {
     "views": []
    },
    "95ad8dde9272419c9f5bc78c293d5cf4": {
     "views": []
    },
    "9642bf3d150f4954b1fcf816e0f63e4c": {
     "views": []
    },
    "99b9d86aff4e4dde95ddb6347770684d": {
     "views": []
    },
    "9c52570cb70e43098fb63bbc39e18b3b": {
     "views": []
    },
    "9fb37ff18a2749c481999a51499387d3": {
     "views": []
    },
    "a1362bc4af0541b9bf5cb159e2888200": {
     "views": []
    },
    "a2165892f05f43e78b2e6b1a08128eb7": {
     "views": []
    },
    "a7368fbc007d44f89f528e3b9b2f5076": {
     "views": []
    },
    "a8f4d26484ec4766a36876bc37b0142a": {
     "views": []
    },
    "aa9b0aa8012f470aa1f44e6e96dce10a": {
     "views": [
      {
       "cell_index": 13
      }
     ]
    },
    "ab2425f27bae45bc960eaa202ee15f12": {
     "views": []
    },
    "add02bdcf6df461982ba63278906bb43": {
     "views": []
    },
    "ae6d3f2896a74114be7595d72b8826f7": {
     "views": []
    },
    "aff812514806407ca6c6bf248ad355a3": {
     "views": []
    },
    "b24bdaef12734367afdd69d842daf058": {
     "views": []
    },
    "b35b10bb76c0468bbf4f968ba2c5bb8a": {
     "views": []
    },
    "b3b95237d50e4996933b014796c9c877": {
     "views": []
    },
    "b7dc6501472d4bfe8cfab9719e9ed1ef": {
     "views": []
    },
    "b9a120344cc446ff9cc93eb1e000ef8b": {
     "views": []
    },
    "b9b5db7557f146ed84817613a68493cc": {
     "views": []
    },
    "b9e08ae893ab4ba482b75cd77fdc1fed": {
     "views": [
      {
       "cell_index": 23
      }
     ]
    },
    "ba61c0dee09545bf93e7e28ed6d46f61": {
     "views": []
    },
    "c2f6ca2cc0cd4ff98baca193fa175d89": {
     "views": []
    },
    "c3d1f81e7f3248bd97c9ddcd1019a39a": {
     "views": []
    },
    "c74c873ec3ff4cf396d9420b97416a46": {
     "views": [
      {
       "cell_index": 15
      }
     ]
    },
    "cba40e09979646e7a31d1f254ce0dd93": {
     "views": []
    },
    "cde6b6bd6b084348bf9d9dbaab90ec03": {
     "views": []
    },
    "ce654566def349959642019acbafa6b5": {
     "views": []
    },
    "d082f2c051ca4f4a998063c416723dbd": {
     "views": []
    },
    "d57892588f0a4e32afd7e6af78b07c0a": {
     "views": []
    },
    "d594c845ec42463e90170466bbc5a701": {
     "views": []
    },
    "d5c7a205fb664610b4175d66a4ae16bd": {
     "views": []
    },
    "d6e91ee06ebe482a91dd602491727c62": {
     "views": []
    },
    "d7ae7584e790466abfcac8e9aa4245b7": {
     "views": []
    },
    "dc6e8b1dbb954024b424306c911577d8": {
     "views": []
    },
    "e07029798ac240558950c2c0a804835f": {
     "views": []
    },
    "e218791c2a9947d6ac4ca52aba82812c": {
     "views": []
    },
    "e449a1e9a53f42ecb236965b3c7bbdaa": {
     "views": []
    },
    "e49c28247b224725a019316931f64868": {
     "views": []
    },
    "ea3995d7f7e448e7886753e25ed9b965": {
     "views": []
    },
    "eae503c2fae94e878f9377413960d732": {
     "views": []
    },
    "eb6d1db73d86401bb1f4d27a6ad75e46": {
     "views": []
    },
    "f0468e4c247f4e5fbdc711468de8451c": {
     "views": []
    },
    "f30a7417dcee4671822ae66a95ea2626": {
     "views": [
      {
       "cell_index": 11
      }
     ]
    },
    "f3392422e4654a3d9aa8a4e9b0e9e753": {
     "views": []
    },
    "f3d6cb0621444f728f882429b14abd10": {
     "views": []
    },
    "f586cf7f041b4a108132216833c6d0f0": {
     "views": []
    },
    "fc7620c34fd64606bbe02841ef0e3cc7": {
     "views": []
    }
   },
   "version": "2.0.0-dev"
  }
 },
 "nbformat": 4,
 "nbformat_minor": 1
}
