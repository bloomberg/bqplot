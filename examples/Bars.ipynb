{
 "cells": [
  {
   "cell_type": "code",
   "execution_count": 1,
   "metadata": {
    "collapsed": false
   },
   "outputs": [],
   "source": [
    "import numpy as np\n",
    "from IPython.display import display\n",
    "from bqplot import *"
   ]
  },
  {
   "cell_type": "code",
   "execution_count": 2,
   "metadata": {
    "collapsed": false
   },
   "outputs": [],
   "source": [
    "size = 100\n",
    "np.random.seed(0)\n",
    "\n",
    "x_data = range(size)\n",
    "y_data = np.random.randn(size)\n",
    "y_data_2 = np.random.randn(size)\n",
    "y_data_3 = np.cumsum(np.random.randn(size) * 100.)"
   ]
  },
  {
   "cell_type": "markdown",
   "metadata": {},
   "source": [
    "## Basic Bar Chart"
   ]
  },
  {
   "cell_type": "code",
   "execution_count": 3,
   "metadata": {
    "collapsed": false
   },
   "outputs": [],
   "source": [
    "x_ord = OrdinalScale()\n",
    "y_sc = LinearScale()\n",
    "\n",
    "bar = Bars(x=x_data[:20], y=y_data[:20], scales={'x': x_ord, 'y': y_sc})\n",
    "ax_x = Axis(scale=x_ord)\n",
    "ax_y = Axis(scale=y_sc, orientation='vertical', tick_format='0.2f')\n",
    "\n",
    "fig = Figure(marks=[bar], axes=[ax_x, ax_y])\n",
    "display(fig)"
   ]
  },
  {
   "cell_type": "markdown",
   "metadata": {},
   "source": [
    "## Changing the reference value from which the Bars are drawn"
   ]
  },
  {
   "cell_type": "code",
   "execution_count": 4,
   "metadata": {
    "collapsed": true
   },
   "outputs": [],
   "source": [
    "x_ord = LinearScale()\n",
    "y_sc = LinearScale()\n",
    "\n",
    "bar = Bars(x=x_data[:20], y=np.abs(y_data_2[:20]), scales={'x': x_ord, 'y': y_sc}, base=1.0)\n",
    "ax_x = Axis(scale=x_ord)\n",
    "ax_y = Axis(scale=y_sc, orientation='vertical', tick_format='0.2f')\n",
    "\n",
    "fig = Figure(marks=[bar], axes=[ax_x, ax_y])\n",
    "display(fig)"
   ]
  },
  {
   "cell_type": "code",
   "execution_count": null,
   "metadata": {
    "collapsed": true
   },
   "outputs": [],
   "source": [
    "# changing the base\n",
    "bar.base = 2.0"
   ]
  },
  {
   "cell_type": "code",
   "execution_count": null,
   "metadata": {
    "collapsed": false
   },
   "outputs": [],
   "source": [
    "bar.align = 'right'"
   ]
  },
  {
   "cell_type": "markdown",
   "metadata": {},
   "source": [
    "## Bar Chart Properties"
   ]
  },
  {
   "cell_type": "code",
   "execution_count": null,
   "metadata": {
    "collapsed": true
   },
   "outputs": [],
   "source": [
    "# Increasing the spacing between the bars\n",
    "x_ord = OrdinalScale()\n",
    "y_sc = LinearScale()\n",
    "\n",
    "bar = Bars(x=x_data[:20], y=y_data[:20], scales={'x': x_ord, 'y': y_sc}, padding=0.2)\n",
    "ax_x = Axis(scale=x_ord)\n",
    "ax_y = Axis(scale=y_sc, orientation='vertical', tick_format='0.2f')\n",
    "\n",
    "fig = Figure(marks=[bar], axes=[ax_x, ax_y])\n",
    "display(fig)"
   ]
  },
  {
   "cell_type": "code",
   "execution_count": null,
   "metadata": {
    "collapsed": true
   },
   "outputs": [],
   "source": [
    "# changing basic properties like stroke and opacity\n",
    "bar.stroke = 'orange'\n",
    "bar.opacities = [0.5, 0.2]"
   ]
  },
  {
   "cell_type": "markdown",
   "metadata": {},
   "source": [
    "## Stacked Bar Chart for 2-d data"
   ]
  },
  {
   "cell_type": "code",
   "execution_count": null,
   "metadata": {
    "collapsed": true
   },
   "outputs": [],
   "source": [
    "x_ord = OrdinalScale()\n",
    "y_sc = LinearScale()\n",
    "\n",
    "bar = Bars(x=x_data, y=[y_data[:20], y_data_2[:20]], \n",
    "           scales={'x': x_ord, 'y': y_sc}, padding=0.2)\n",
    "ax_x = Axis(scale=x_ord)\n",
    "ax_y = Axis(scale=y_sc, orientation='vertical', tick_format='0.2f')\n",
    "\n",
    "fig = Figure(marks=[bar], axes=[ax_x, ax_y])\n",
    "display(fig)"
   ]
  },
  {
   "cell_type": "markdown",
   "metadata": {},
   "source": [
    "## Grouped Bar Chart"
   ]
  },
  {
   "cell_type": "code",
   "execution_count": null,
   "metadata": {
    "collapsed": true
   },
   "outputs": [],
   "source": [
    "bar.type = 'grouped' # equivalent to saying \n",
    "# bar = Bars(x=x_data, y=y_data, scales={'x': x_ord, 'y': y_sc}, padding=0.2, type='grouped')"
   ]
  },
  {
   "cell_type": "markdown",
   "metadata": {},
   "source": [
    "## Modifying color mode"
   ]
  },
  {
   "cell_type": "code",
   "execution_count": null,
   "metadata": {
    "collapsed": false
   },
   "outputs": [],
   "source": [
    "## Color mode has 2 values. 'group' and 'element'. \n",
    "## 'group' means for every x all bars have same color.\n",
    "## 'element' means for every dimension of y, all bars have same color.\n",
    "x_ord = OrdinalScale()\n",
    "y_sc = LinearScale()\n",
    "\n",
    "bar = Bars(x=x_data, y=[y_data[:20], y_data_2[:20]],\n",
    "           scales={'x': x_ord, 'y': y_sc}, padding=0.2, color_mode='group')\n",
    "ax_x = Axis(scale=x_ord)\n",
    "ax_y = Axis(scale=y_sc, orientation='vertical', tick_format='0.2f')\n",
    "\n",
    "fig = Figure(marks=[bar], axes=[ax_x, ax_y])\n",
    "display(fig)"
   ]
  },
  {
   "cell_type": "code",
   "execution_count": null,
   "metadata": {
    "collapsed": true
   },
   "outputs": [],
   "source": [
    "## for 1-d array for Y.\n",
    "x_ord = OrdinalScale()\n",
    "y_sc = LinearScale()\n",
    "\n",
    "bar = Bars(x=x_data, y=y_data[:20], scales={'x': x_ord, 'y': y_sc}, padding=0.2, \n",
    "           color_mode='element', labels=['Bar Chart'], \n",
    "           display_legend=True)\n",
    "ax_x = Axis(scale=x_ord)\n",
    "ax_y = Axis(scale=y_sc, orientation='vertical', tick_format='0.2f')\n",
    "\n",
    "fig = Figure(marks=[bar], axes=[ax_x, ax_y])\n",
    "display(fig)"
   ]
  },
  {
   "cell_type": "markdown",
   "metadata": {
    "collapsed": true
   },
   "source": [
    "## Representing additional dimension using Color"
   ]
  },
  {
   "cell_type": "code",
   "execution_count": null,
   "metadata": {
    "collapsed": false
   },
   "outputs": [],
   "source": [
    "# In this example, the color is just the magnitude of the y data\n",
    "x_ord = OrdinalScale()\n",
    "y_sc = LinearScale()\n",
    "col_sc = ColorScale(scheme='Reds')\n",
    "\n",
    "bar = Bars(x=x_data[:20], y=y_data[:20], color=np.abs(y_data[:20]),\n",
    "           scales={'x': x_ord, 'y': y_sc, 'color': col_sc}, padding=0.2)\n",
    "ax_x = Axis(scale=x_ord)\n",
    "ax_y = Axis(scale=y_sc, orientation='vertical', tick_format='0.2f')\n",
    "ax_c = ColorAxis(scale=col_sc, tick_format='0.2f')\n",
    "\n",
    "margin = dict(top=50, bottom=80, left=50, right=50)\n",
    "fig = Figure(marks=[bar], axes=[ax_x, ax_y, ax_c], fig_margin=margin)\n",
    "display(fig)"
   ]
  },
  {
   "cell_type": "markdown",
   "metadata": {},
   "source": [
    "## Adding color for 2-d data"
   ]
  },
  {
   "cell_type": "code",
   "execution_count": null,
   "metadata": {
    "collapsed": false
   },
   "outputs": [],
   "source": [
    "# By default color is applied along the axis=1\n",
    "x_ord = OrdinalScale()\n",
    "y_sc = LinearScale()\n",
    "col_sc = ColorScale(scheme='Reds')\n",
    "\n",
    "y_vals = [y_data[:20], y_data_2[:20], y_data_3[:20] / 100.0]\n",
    "color_data = np.mean(y_vals, axis=1)\n",
    "\n",
    "bar = Bars(x=x_data, y=y_vals, color=color_data, \n",
    "           scales={'x': x_ord, 'y': y_sc, 'color': col_sc}, padding=0.2,\n",
    "           labels=['Dim 1', 'Dim 2', 'Dim 3'], display_legend=True)\n",
    "ax_x = Axis(scale=x_ord)\n",
    "ax_y = Axis(scale=y_sc, orientation='vertical', tick_format='0.2f')\n",
    "ax_c = ColorAxis(scale=col_sc, tick_format='0.2f')\n",
    "\n",
    "margin = dict(top=50, bottom=80, left=50, right=50)\n",
    "fig = Figure(marks=[bar], axes=[ax_x, ax_y, ax_c], fig_margin=margin)\n",
    "display(fig)"
   ]
  },
  {
   "cell_type": "code",
   "execution_count": null,
   "metadata": {
    "collapsed": false
   },
   "outputs": [],
   "source": [
    "# Applying color along the axis=0\n",
    "x_ord = OrdinalScale()\n",
    "y_sc = LinearScale()\n",
    "col_sc = ColorScale(mid=0.0)\n",
    "\n",
    "y_vals = [y_data[:20], y_data_2[:20], y_data_3[:20] / 100.0]\n",
    "color_data = np.mean(y_vals, axis=0)\n",
    "\n",
    "bar = Bars(x=x_data, y=y_vals, color=color_data, \n",
    "           scales={'x': x_ord, 'y': y_sc, 'color': col_sc},\n",
    "           padding=0.2, color_mode='group', stroke='orange')\n",
    "ax_x = Axis(scale=x_ord)\n",
    "ax_y = Axis(scale=y_sc, orientation='vertical', tick_format='0.2f')\n",
    "ax_c = ColorAxis(scale=col_sc, tick_format='0.2f')\n",
    "\n",
    "margin = dict(top=50, bottom=80, left=50, right=50)\n",
    "fig = Figure(marks=[bar], axes=[ax_x, ax_y, ax_c], fig_margin=margin)\n",
    "display(fig)"
   ]
  },
  {
   "cell_type": "code",
   "execution_count": null,
   "metadata": {
    "collapsed": true
   },
   "outputs": [],
   "source": []
  }
 ],
 "metadata": {
  "kernelspec": {
   "display_name": "Python 2",
   "language": "python",
   "name": "python2"
  },
  "language_info": {
   "codemirror_mode": {
    "name": "ipython",
    "version": 2
   },
   "file_extension": ".py",
   "mimetype": "text/x-python",
   "name": "python",
   "nbconvert_exporter": "python",
   "pygments_lexer": "ipython2",
   "version": "2.7.11"
  },
  "widgets": {
   "state": {
    "115e8128bb434913bf619e9a91cf0d43": {
     "views": []
    },
    "1bb0184898bf447fb77512acc1a8ac15": {
     "views": []
    },
    "283757d301434c58a8ff2f517804d1e2": {
     "views": []
    },
    "286195f73c554bcead6cd6dabc2a017a": {
     "views": []
    },
    "556b382dd6b94446bd26b2d97f67b999": {
     "views": []
    },
    "6ee49200ec7543868788c39731a98fcd": {
     "views": []
    },
    "8907c02835fd48f2a3e3ae9c3c39a200": {
     "views": [
      {
       "cell_index": 5
      }
     ]
    },
    "89fd178e29cc4450ae279696a26db31d": {
     "views": [
      {
       "cell_index": 3
      }
     ]
    },
    "9a5aca3277aa48edb4121d0b5aa2b789": {
     "views": []
    },
    "9b0cb552fef64083a2aac9bacce12760": {
     "views": []
    },
    "ac33a3c71de041169f41266fda0d1df6": {
     "views": []
    },
    "ae61010acf2d42d4b590c0564ef99631": {
     "views": []
    },
    "c1fb250c3e90496680217ef614e04946": {
     "views": []
    },
    "d58a58bc6a594a169b9572b3b7f80163": {
     "views": []
    },
    "d9e9ef73eed048d49fb13dc27026c6ba": {
     "views": []
    },
    "e36ce2cac22e4590a93107710f27e5a5": {
     "views": []
    },
    "e8967ecc18584e3ab69b6b180cc2f48b": {
     "views": []
    },
    "facf05788ee140a0a4433ecbfc208897": {
     "views": []
    }
   },
   "version": "1.1.1"
  }
 },
 "nbformat": 4,
 "nbformat_minor": 0
}
