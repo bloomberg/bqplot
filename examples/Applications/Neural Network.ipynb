{
 "cells": [
  {
   "cell_type": "code",
   "execution_count": null,
   "metadata": {
    "collapsed": true,
    "deletable": true,
    "editable": true
   },
   "outputs": [],
   "source": [
    "import numpy as np\n",
    "from bqplot import *\n",
    "from bqplot.marks import Graph"
   ]
  },
  {
   "cell_type": "code",
   "execution_count": null,
   "metadata": {
    "collapsed": true,
    "deletable": true,
    "editable": true
   },
   "outputs": [],
   "source": [
    "from itertools import chain, product\n",
    "\n",
    "# TODO\n",
    "# inherit from figure\n",
    "# connect to keras/tf\n",
    "# wire plots to hover, click handlers\n",
    "\n",
    "class NeuralNet:\n",
    "    def __init__(self, *args, **kwargs):\n",
    "        self.height = kwargs.get('height', 600)\n",
    "        self.width = kwargs.get('width', 960)\n",
    "        self.layer_colors = kwargs.get('layer_colors', CATEGORY10)\n",
    "        self.directed_links = kwargs.get('directed_links', False)\n",
    "        \n",
    "        self.nodes_input_layer = kwargs['nx']\n",
    "        self.nodes_hidden_layers = kwargs['hidden_layers']\n",
    "        self.nodes_output_layer = kwargs['ny']\n",
    "        \n",
    "        self.build_net()\n",
    "    \n",
    "    def build_net(self):\n",
    "        # create nodes\n",
    "        self.layer_nodes = []\n",
    "        self.layer_nodes.append(['x' + str(i+1) for i in range(self.nodes_input_layer)])\n",
    "        \n",
    "        for i, h in enumerate(self.nodes_hidden_layers):\n",
    "            self.layer_nodes.append(['h' + str(i+1) + ',' + str(j+1) for j in range(h)])\n",
    "        self.layer_nodes.append(['y' + str(i+1) for i in range(self.nodes_output_layer)])\n",
    "        \n",
    "        self.flattened_layer_nodes = list(chain(*self.layer_nodes))\n",
    "        \n",
    "        # build link matrix\n",
    "        i = 0\n",
    "        node_indices = {}\n",
    "        for layer in self.layer_nodes:\n",
    "            for node in layer:\n",
    "                node_indices[node] = i\n",
    "                i += 1\n",
    "\n",
    "        n = len(self.flattened_layer_nodes)\n",
    "        self.link_matrix = np.empty((n,n))\n",
    "        self.link_matrix[:] = np.nan\n",
    "\n",
    "        for i in range(len(self.layer_nodes) - 1):\n",
    "            curr_layer_nodes_indices = [node_indices[d] for d in self.layer_nodes[i]]\n",
    "            next_layer_nodes = [node_indices[d] for d in self.layer_nodes[i+1]]\n",
    "            for s, t in product(curr_layer_nodes_indices, next_layer_nodes):\n",
    "                self.link_matrix[s, t] = 1\n",
    "        \n",
    "        # set node x locations\n",
    "        self.nodes_x = np.repeat(np.linspace(0, 100, \n",
    "                                             len(self.layer_nodes) + 1, \n",
    "                                             endpoint=False)[1:], \n",
    "                                 [len(n) for n in self.layer_nodes])\n",
    "\n",
    "        # set node y locations\n",
    "        self.nodes_y = np.array([])\n",
    "        for layer in self.layer_nodes:\n",
    "            n = len(layer)\n",
    "            ys = np.linspace(0, 100, n+1, endpoint=False)[1:]\n",
    "            self.nodes_y = np.append(self.nodes_y, ys[::-1])\n",
    "        \n",
    "        # set node colors\n",
    "        n_layers = len(self.layer_nodes)\n",
    "        self.node_colors = np.repeat(np.array(self.layer_colors[:n_layers]), \n",
    "                                     [len(layer) for layer in self.layer_nodes]).tolist()\n",
    "        \n",
    "        xs = LinearScale(min=0, max=100)\n",
    "        ys = LinearScale(min=0, max=100)\n",
    "        \n",
    "        self.graph = Graph(node_labels=self.flattened_layer_nodes, \n",
    "                           link_matrix=self.link_matrix, \n",
    "                           link_type='line',\n",
    "                           colors=self.node_colors,\n",
    "                           directed=self.directed_links,\n",
    "                           scales={'x': xs, 'y': ys}, \n",
    "                           x=self.nodes_x, \n",
    "                           y=self.nodes_y)\n",
    "        self.graph.hovered_style = {'stroke': '1.5'}\n",
    "        self.graph.unhovered_style = {'opacity': '0.4'}\n",
    "        \n",
    "        self.graph.selected_style = {'opacity': '1',\n",
    "                                     'stroke': 'red',\n",
    "                                     'stroke-width': '2.5'}\n",
    "        self.fig = Figure(marks=[self.graph])\n",
    "        self.fig.layout.width = str(self.width) + 'px'\n",
    "        self.fig.layout.height = str(self.height) + 'px'"
   ]
  },
  {
   "cell_type": "code",
   "execution_count": null,
   "metadata": {
    "collapsed": false,
    "deletable": true,
    "editable": true
   },
   "outputs": [],
   "source": [
    "nn = NeuralNet(nx=3, hidden_layers=[10, 10, 5], ny=1)\n",
    "nn.fig"
   ]
  }
 ],
 "metadata": {
  "input_collapsed": false,
  "kernelspec": {
   "display_name": "Python [Root]",
   "language": "python",
   "name": "Python [Root]"
  },
  "language_info": {
   "codemirror_mode": {
    "name": "ipython",
    "version": 3
   },
   "file_extension": ".py",
   "mimetype": "text/x-python",
   "name": "python",
   "nbconvert_exporter": "python",
   "pygments_lexer": "ipython3",
   "version": "3.5.1"
  }
 },
 "nbformat": 4,
 "nbformat_minor": 2
}
