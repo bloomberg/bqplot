{
 "cells": [
  {
   "cell_type": "code",
   "execution_count": 7,
   "metadata": {
    "collapsed": true,
    "deletable": true,
    "editable": true
   },
   "outputs": [],
   "source": [
    "import numpy as np\n",
    "from bqplot import *\n",
    "from bqplot.marks import Graph"
   ]
  },
  {
   "cell_type": "code",
   "execution_count": 15,
   "metadata": {
    "collapsed": false,
    "deletable": true,
    "editable": true
   },
   "outputs": [
    {
     "data": {
      "application/vnd.jupyter.widget-view+json": {
       "model_id": "7db4a2f2be1e44e3a18121d5d4e2d073"
      }
     },
     "metadata": {},
     "output_type": "display_data"
    }
   ],
   "source": [
    "node_data = list('ABCDEFG')\n",
    "\n",
    "link_matrix = np.zeros((5, 5))\n",
    "link_matrix[:] = np.nan\n",
    "\n",
    "link_matrix[0, 1] = 1\n",
    "link_matrix[0, 2] = 1\n",
    "\n",
    "xs = LinearScale(min=0, max=500)\n",
    "ys = LinearScale(min=0, max=5)\n",
    "x = [100, 200, 200, 300, 300, 300, 300]\n",
    "y = [2, .5, 4, 8, 6, 2, 1]\n",
    "graph = Graph(node_labels=node_data, link_matrix=link_matrix, link_type='line', \n",
    "              colors=['orange'] * 7,\n",
    "              scales={'x': xs, 'y': ys, }, x=x, y=y, \n",
    "              directed=False, link_distance=200)\n",
    "fig = Figure(marks=[graph])\n",
    "fig.layout.width = '960px'\n",
    "fig.layout.height = '500px'\n",
    "fig"
   ]
  }
 ],
 "metadata": {
  "input_collapsed": false,
  "kernelspec": {
   "display_name": "Python [Root]",
   "language": "python",
   "name": "Python [Root]"
  },
  "language_info": {
   "codemirror_mode": {
    "name": "ipython",
    "version": 3
   },
   "file_extension": ".py",
   "mimetype": "text/x-python",
   "name": "python",
   "nbconvert_exporter": "python",
   "pygments_lexer": "ipython3",
   "version": "3.5.1"
  }
 },
 "nbformat": 4,
 "nbformat_minor": 2
}
