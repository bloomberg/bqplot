{
 "cells": [
  {
   "cell_type": "code",
   "execution_count": null,
   "metadata": {
    "collapsed": true,
    "deletable": true,
    "editable": true
   },
   "outputs": [],
   "source": [
    "from bqplot import *\n",
    "\n",
    "import numpy as np"
   ]
  },
  {
   "cell_type": "markdown",
   "metadata": {
    "deletable": true,
    "editable": true
   },
   "source": [
    "## ColorScale\n",
    "\n",
    "The colors for the `ColorScale` can be defined one of two ways:\n",
    "- Manually, by setting the scale's `colors` attribute to a list of css colors. They can be either:\n",
    "   - html colors (link) `'white'`\n",
    "   - hex `'#000000'`\n",
    "   - rgb `'rgb(0, 0, 0)'`.\n",
    "\n",
    "```python\n",
    "col_sc = ColorScale(colors=['yellow', 'red'])\n",
    "```\n",
    "- Using one of `bqplot`'s color-schemes. As of now we support all the colorbrewer schemes (link), as well as the matplotlib schemes 'viridis', 'magma', 'inferno' and 'plasma'.\n",
    "```python\n",
    "col_sc = ColorScale(scheme=['viridis'])\n",
    "```\n",
    "\n",
    "The color scale then linearly interpolates between its colors.\n",
    "\n",
    "### ColorAxis\n",
    "\n",
    "A `ColorAxis`, like other `Axis` types, takes a color scale as input. It can then be displayed in a `Figure`.\n",
    "\n",
    "```python\n",
    "ax_col = ColorAxis(scale=col_sc)\n",
    "```"
   ]
  },
  {
   "cell_type": "code",
   "execution_count": null,
   "metadata": {
    "collapsed": false,
    "deletable": true,
    "editable": true
   },
   "outputs": [],
   "source": [
    "size = 100\n",
    "np.random.seed(0)\n",
    "x_data = range(size)\n",
    "y_data = np.cumsum(np.random.randn(size) * 100.0)\n",
    "\n",
    "def create_figure(color_scale, color_data):\n",
    "\n",
    "    scales = {'x': LinearScale(), 'y': LinearScale(), 'color': color_scale}\n",
    "    scatter = Scatter(x=x_data, y=y_data, color=color_data,\n",
    "                      scales=scales, \n",
    "                      stroke='black')\n",
    "    ax_y = Axis(label='Price', scale=scales['y'], \n",
    "                orientation='vertical', side='left')\n",
    "    ax_x = Axis(label='Day', scale=scales['x'], num_ticks=10, label_location='end')\n",
    "    ax_c = ColorAxis(scale=color_scale, label='Returns', orientation='vertical', side='right')\n",
    "    ax_y = Axis(scale=scales['y'], \n",
    "                orientation='vertical', side='left')\n",
    "    ax_x = Axis(scale=scales['x'], num_ticks=10, label_location='end')\n",
    "    ax_c = ColorAxis(scale=color_scale, orientation='vertical', side='right')\n",
    "\n",
    "    m_chart = dict(top=50, bottom=70, left=50, right=100)\n",
    "\n",
    "    return Figure(axes=[ax_x, ax_y, ax_c], title='Up and Down',\n",
    "                  marks=[scatter], fig_margin=m_chart,)\n",
    "\n",
    "col_sc = ColorScale()\n",
    "create_figure(col_sc, y_data)"
   ]
  },
  {
   "cell_type": "markdown",
   "metadata": {
    "deletable": true,
    "editable": true
   },
   "source": [
    "### Attributes\n",
    "`ColorScales` share attributes with the other `Scale` types:\n",
    "- Their domain can be manually constrained with the `min` and `max` attributes\n",
    "- They can be inversed by setting the `reverse` attribute to `True`"
   ]
  },
  {
   "cell_type": "code",
   "execution_count": null,
   "metadata": {
    "collapsed": true,
    "deletable": true,
    "editable": true
   },
   "outputs": [],
   "source": [
    "col_sc.min = 0"
   ]
  },
  {
   "cell_type": "code",
   "execution_count": null,
   "metadata": {
    "collapsed": true,
    "deletable": true,
    "editable": true
   },
   "outputs": [],
   "source": [
    "col_sc.reverse = True"
   ]
  },
  {
   "cell_type": "markdown",
   "metadata": {
    "deletable": true,
    "editable": true
   },
   "source": [
    "#### Mid\n",
    "In addition they also have a `mid` attribute, a value that will be mapped to the middle color. This is especially suited to diverging color schemes."
   ]
  },
  {
   "cell_type": "code",
   "execution_count": null,
   "metadata": {
    "collapsed": true,
    "deletable": true,
    "editable": true
   },
   "outputs": [],
   "source": [
    "col_sc.min = None\n",
    "col_sc.mid = 0"
   ]
  },
  {
   "cell_type": "markdown",
   "metadata": {
    "deletable": true,
    "editable": true
   },
   "source": [
    "## DateColorScale\n",
    "\n",
    "The `DateColorScale` is a color scale for dates. It works in every way like the regular `ColorScale`, except that its `min`, `mid` and `max` attributes — if defined — must be date elements (`datetime`, `numpy` or `pandas`)."
   ]
  },
  {
   "cell_type": "code",
   "execution_count": null,
   "metadata": {
    "collapsed": false,
    "deletable": true,
    "editable": true
   },
   "outputs": [],
   "source": [
    "import pandas as pd\n",
    "\n",
    "date_col_sc = DateColorScale()\n",
    "dates = pd.date_range(start='01-01-2007', periods=size)\n",
    "create_figure(date_col_sc, dates)"
   ]
  },
  {
   "cell_type": "code",
   "execution_count": null,
   "metadata": {
    "collapsed": true,
    "deletable": true,
    "editable": true
   },
   "outputs": [],
   "source": [
    "date_col_sc.min = pd.datetime(2007,2,28)"
   ]
  },
  {
   "cell_type": "markdown",
   "metadata": {
    "deletable": true,
    "editable": true
   },
   "source": [
    "## Color Schemes\n",
    "\n",
    "Use the following widgets to browse through the available color schemes"
   ]
  },
  {
   "cell_type": "code",
   "execution_count": null,
   "metadata": {
    "collapsed": false,
    "deletable": true,
    "editable": true
   },
   "outputs": [],
   "source": [
    "from bqplot.tile_map import TileMap\n",
    "\n",
    "from ipywidgets import IntSlider, SelectionSlider, Dropdown\n",
    "from ipywidgets import VBox, HBox, Layout\n",
    "from traitlets import link"
   ]
  },
  {
   "cell_type": "markdown",
   "metadata": {
    "deletable": true,
    "editable": true
   },
   "source": [
    "### Diverging schemes"
   ]
  },
  {
   "cell_type": "code",
   "execution_count": null,
   "metadata": {
    "collapsed": true,
    "deletable": true,
    "editable": true
   },
   "outputs": [],
   "source": [
    "div_schemes = [\n",
    "    'Spectral',\n",
    "    'RdYlGn',\n",
    "    'RdBu',\n",
    "    'PiYG',\n",
    "    'PRGn',\n",
    "    'RdYlBu',\n",
    "    'BrBG',\n",
    "    'RdGy',\n",
    "    'PuOr',\n",
    "]"
   ]
  },
  {
   "cell_type": "code",
   "execution_count": null,
   "metadata": {
    "collapsed": false,
    "deletable": true,
    "editable": true
   },
   "outputs": [],
   "source": [
    "def scheme_inspector(fig, schemes, title=''):\n",
    "    '''\n",
    "    Takes a Figure and a list of schemes and returns the Figure along with\n",
    "    sliders to go through the different schemes.\n",
    "    \n",
    "    Supposes that the \n",
    "    '''\n",
    "    \n",
    "    # Get the color scale\n",
    "    col_sc = fig.marks[0].scales['color']\n",
    "    \n",
    "    # Create the widgets to select the colorscheme\n",
    "    scheme_slider = SelectionSlider(description='',\n",
    "                                    options=schemes)\n",
    "    scheme_dd = Dropdown(description='Scheme',\n",
    "                         options=schemes)\n",
    "    link((scheme_dd, 'value'), (scheme_slider, 'value'))\n",
    "\n",
    "    def update_scheme(*args):\n",
    "        col_sc.scheme = scheme_slider.value\n",
    "        # ax_c.label = scheme_slider.value\n",
    "\n",
    "    scheme_slider.observe(update_scheme, 'value')\n",
    "    scheme_dd.observe(update_scheme, 'value')\n",
    "    \n",
    "    update_scheme()\n",
    "\n",
    "    return VBox([HBox([scheme_dd, scheme_slider]), fig])\n",
    "\n",
    "scheme_inspector(create_figure(ColorScale(), y_data), div_schemes)"
   ]
  },
  {
   "cell_type": "markdown",
   "metadata": {
    "deletable": true,
    "editable": true
   },
   "source": [
    "### Non-diverging schemes"
   ]
  },
  {
   "cell_type": "code",
   "execution_count": null,
   "metadata": {
    "collapsed": true,
    "deletable": true,
    "editable": true
   },
   "outputs": [],
   "source": [
    "lin_schemes = [\n",
    "    'OrRd',\n",
    "    'PuBu',\n",
    "    'BuPu',\n",
    "    'Oranges',\n",
    "    'BuGn',\n",
    "    'YlOrBr',\n",
    "    'YlGn',\n",
    "    'Reds',\n",
    "    'RdPu',\n",
    "    'Greens',\n",
    "    'YlGnBu',\n",
    "    'Purples',\n",
    "    'GnBu',\n",
    "    'Greys',\n",
    "    'YlOrRd',\n",
    "    'PuRd',\n",
    "    'Blues',\n",
    "    'PuBuGn',\n",
    "    'viridis',\n",
    "    'plasma',\n",
    "    'inferno',\n",
    "    'magma'\n",
    "]"
   ]
  },
  {
   "cell_type": "code",
   "execution_count": null,
   "metadata": {
    "collapsed": false,
    "deletable": true,
    "editable": true
   },
   "outputs": [],
   "source": [
    "scheme_inspector(create_figure(ColorScale(), y_data), lin_schemes,\n",
    "                 title='Non-diverging schemes')"
   ]
  },
  {
   "cell_type": "markdown",
   "metadata": {
    "deletable": true,
    "editable": true
   },
   "source": [
    "## OrdinalColorScale\n",
    "\n",
    "The `OrdinalColorScale` is a color scale for categorical data, i.e. data that does not have an intrinsic order.\n",
    "\n",
    "The scale colors may be specified by the user, or chosen from a set scheme. As of now, the supported color schemes are the colorbrewer categorical schemes, listed here along with their maximum number of colors."
   ]
  },
  {
   "cell_type": "code",
   "execution_count": null,
   "metadata": {
    "collapsed": true,
    "deletable": true,
    "editable": true
   },
   "outputs": [],
   "source": [
    "ord_schemes = {\n",
    "    'Set2': 8,\n",
    "    'Accent': 8,\n",
    "    'Set1': 9,\n",
    "    'Set3': 12,\n",
    "    'Dark2': 8,\n",
    "    'Paired': 12,\n",
    "    'Pastel2': 8,\n",
    "    'Pastel1': 9,\n",
    "}"
   ]
  },
  {
   "cell_type": "code",
   "execution_count": null,
   "metadata": {
    "collapsed": true,
    "deletable": true,
    "editable": true
   },
   "outputs": [],
   "source": [
    "def partition(array, n_groups):\n",
    "    n_elements = len(array)\n",
    "    if n_groups > n_elements:\n",
    "        return np.arange(n_elements)\n",
    "    n_per_group = n_elements // n_groups + (n_elements % n_groups > 0)\n",
    "    return np.tile(range(1, n_groups+1), n_per_group)[:n_elements]"
   ]
  },
  {
   "cell_type": "code",
   "execution_count": null,
   "metadata": {
    "collapsed": false,
    "deletable": true,
    "editable": true,
    "scrolled": false
   },
   "outputs": [],
   "source": [
    "# Define the control widgets\n",
    "n_groups_slider = IntSlider(description='n colors', min=3)\n",
    "scheme_slider = SelectionSlider(options=ord_schemes)\n",
    "scheme_dd = Dropdown(description='Scheme',\n",
    "                     options=ord_schemes)\n",
    "link((scheme_dd, 'label'), (scheme_slider, 'label'))\n",
    "    \n",
    "def update_scheme(*args):\n",
    "    col_sc.scheme = scheme_slider.label\n",
    "    ax_c.label = scheme_slider.label\n",
    "    n_groups_slider.max = scheme_slider.value\n",
    "\n",
    "def update_categories(*args):\n",
    "    groups = partition(names, n_groups_slider.value)\n",
    "    tile_map.color = groups\n",
    "    tile_map.groups = groups\n",
    "\n",
    "n_groups_slider.observe(update_categories, 'value')\n",
    "scheme_slider.observe(update_scheme, 'value')\n",
    "\n",
    "# Define the bqplot tile map\n",
    "names = range(100)\n",
    "\n",
    "col_sc = OrdinalColorScale()\n",
    "ax_c = ColorAxis(scale=col_sc)\n",
    "\n",
    "tile_map = TileMap(names=names,\n",
    "                   display_text=['' for _ in names],\n",
    "                   scales={'color': col_sc}, axes=[ax_c],\n",
    "                   layout=Layout(min_width='800px', min_height='600px'))\n",
    "update_scheme()\n",
    "update_categories()\n",
    "\n",
    "VBox([HBox([scheme_dd, scheme_slider, n_groups_slider]), tile_map])"
   ]
  }
 ],
 "metadata": {
  "kernelspec": {
   "display_name": "Python 3",
   "language": "python",
   "name": "python3"
  },
  "language_info": {
   "codemirror_mode": {
    "name": "ipython",
    "version": 3
   },
   "file_extension": ".py",
   "mimetype": "text/x-python",
   "name": "python",
   "nbconvert_exporter": "python",
   "pygments_lexer": "ipython3",
   "version": "3.6.4"
  }
 },
 "nbformat": 4,
 "nbformat_minor": 2
}
