{
 "cells": [
  {
   "cell_type": "code",
   "execution_count": 1,
   "metadata": {
    "collapsed": false
   },
   "outputs": [],
   "source": [
    "import base64\n",
    "import cStringIO\n",
    "\n",
    "import numpy as np\n",
    "import scipy.misc\n",
    "\n",
    "import PIL.Image\n",
    "\n",
    "data = scipy.misc.ascent()\n",
    "data = data.astype(np.uint8)\n",
    "\n",
    "f = cStringIO.StringIO()\n",
    "PIL.Image.fromarray(data).save(f, 'png')\n",
    "\n",
    "src = 'data:image/png;base64,' + base64.b64encode(f.getvalue())"
   ]
  },
  {
   "cell_type": "code",
   "execution_count": 2,
   "metadata": {
    "collapsed": false
   },
   "outputs": [],
   "source": [
    "from IPython.display import display\n",
    "\n",
    "from bqplot import Figure, Image\n",
    "\n",
    "im = Image(src=src, x=0, y=0, width='250px', height='250px')\n",
    "\n",
    "fig = Figure(marks=[im])\n",
    "display(fig)"
   ]
  },
  {
   "cell_type": "code",
   "execution_count": 4,
   "metadata": {
    "collapsed": false
   },
   "outputs": [],
   "source": [
    "# Move the image around\n",
    "im.x = 550\n",
    "im.y = 250"
   ]
  },
  {
   "cell_type": "code",
   "execution_count": 5,
   "metadata": {
    "collapsed": true
   },
   "outputs": [],
   "source": [
    "# Lose the aspect ratio\n",
    "im.preserve_aspect_ratio = 'none'\n",
    "\n",
    "# Resize the image\n",
    "im.width = '200px'\n",
    "im.height = '150px'"
   ]
  },
  {
   "cell_type": "code",
   "execution_count": null,
   "metadata": {
    "collapsed": true
   },
   "outputs": [],
   "source": []
  }
 ],
 "metadata": {
  "kernelspec": {
   "display_name": "Python 2",
   "language": "python",
   "name": "python2"
  },
  "language_info": {
   "codemirror_mode": {
    "name": "ipython",
    "version": 2
   },
   "file_extension": ".py",
   "mimetype": "text/x-python",
   "name": "python",
   "nbconvert_exporter": "python",
   "pygments_lexer": "ipython2",
   "version": "2.7.11"
  },
  "widgets": {
   "state": {
    "0ab8688218f241439ee26c92f2de3271": {
     "views": []
    },
    "2b1474412a5c48dc9beb61ce7e6c5846": {
     "views": [
      {
       "cell_index": 1
      }
     ]
    },
    "60fbc9a190e74acfbb0d49a1e875c273": {
     "views": []
    },
    "bcb6cac4ff554595920ea6c46109d2bb": {
     "views": []
    },
    "f7fbf1ab6fe74620b36d20777cfa7e02": {
     "views": []
    }
   },
   "version": "1.1.1"
  }
 },
 "nbformat": 4,
 "nbformat_minor": 0
}
