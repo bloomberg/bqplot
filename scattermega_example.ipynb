{
 "cells": [
  {
   "cell_type": "code",
   "execution_count": null,
   "metadata": {},
   "outputs": [],
   "source": [
    "import bqplot\n",
    "import numpy as np"
   ]
  },
  {
   "cell_type": "code",
   "execution_count": null,
   "metadata": {},
   "outputs": [],
   "source": [
    "N = int(1e4)\n",
    "import bqplot\n",
    "scale_x = bqplot.LinearScale(min=-10, max=10)\n",
    "scale_y = bqplot.LinearScale(min=-10, max=10)\n",
    "scale_color = bqplot.ColorScale(min=0, max=1, colors=['red', 'orange', 'green', 'pink', 'blue'])\n",
    "\n",
    "x = np.random.normal(5, 4, N)\n",
    "y = np.random.normal(0, 3, N)\n",
    "\n",
    "size = np.random.rand(N) * 10 + 5\n",
    "color = np.random.rand(N)\n",
    "\n",
    "scatter = bqplot.ScatterMega(x=x, y=y, default_size=20,\n",
    "                             size=size,\n",
    "                             #color=color,\n",
    "                             scales={'x': scale_x, 'y': scale_y, 'color': scale_color})\n",
    "scatter.selected_style = dict(fill='orange')\n",
    "# scatter = bqplot.Scatter(x=x, y=y, scales={'x': scale_x, 'y': scale_y})\n",
    "ax_x = bqplot.Axis(scale=scale_x, grid_lines='solid', label='X')\n",
    "ax_y = bqplot.Axis(scale=scale_y, orientation='vertical', tick_format='0.2f',\n",
    "            grid_lines='solid', label='Y')\n",
    "\n",
    "selector = bqplot.interacts.BrushSelector(x_scale=scale_x, y_scale=scale_y, color=\"green\")\n",
    "fig = bqplot.Figure(marks=[scatter], axes=[ax_x, ax_y], title='Using widgets directly',\n",
    "       legend_location='bottom-right')\n",
    "fig.interaction = selector\n",
    "fig"
   ]
  },
  {
   "cell_type": "code",
   "execution_count": null,
   "metadata": {},
   "outputs": [],
   "source": [
    "scatter.selected = np.random.choice(N, N//2).tolist()"
   ]
  },
  {
   "cell_type": "code",
   "execution_count": null,
   "metadata": {},
   "outputs": [],
   "source": [
    "M = int(1e2)\n",
    "with scatter.hold_sync():\n",
    "    scatter.x = np.random.normal(5, 2, M)\n",
    "    scatter.y = np.random.normal(0, 5, M)\n"
   ]
  },
  {
   "cell_type": "code",
   "execution_count": null,
   "metadata": {},
   "outputs": [],
   "source": [
    "M = int(1e6)\n",
    "with scatter.hold_sync():\n",
    "    scatter.x = np.random.normal(5, 4, M)\n",
    "    scatter.y = np.random.normal(0, 3, M)\n"
   ]
  },
  {
   "cell_type": "code",
   "execution_count": null,
   "metadata": {},
   "outputs": [],
   "source": [
    "scatter.unselected_style = {'fill': 'red'}"
   ]
  },
  {
   "cell_type": "code",
   "execution_count": null,
   "metadata": {},
   "outputs": [],
   "source": [
    "panzoom = bqplot.interacts.PanZoom(scales={'x': [scale_x], 'y': [scale_y]})\n",
    "fig.interaction = panzoom"
   ]
  },
  {
   "cell_type": "code",
   "execution_count": null,
   "metadata": {},
   "outputs": [],
   "source": []
  }
 ],
 "metadata": {
  "kernelspec": {
   "display_name": "Python 3",
   "language": "python",
   "name": "python3"
  },
  "language_info": {
   "codemirror_mode": {
    "name": "ipython",
    "version": 3
   },
   "file_extension": ".py",
   "mimetype": "text/x-python",
   "name": "python",
   "nbconvert_exporter": "python",
   "pygments_lexer": "ipython3",
   "version": "3.6.4"
  }
 },
 "nbformat": 4,
 "nbformat_minor": 2
}
