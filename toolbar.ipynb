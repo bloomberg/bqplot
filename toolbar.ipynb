{
 "cells": [
  {
   "cell_type": "code",
   "execution_count": null,
   "metadata": {},
   "outputs": [],
   "source": [
    "import bqplot\n",
    "import ipywidgets as widgets\n",
    "import glue.icons"
   ]
  },
  {
   "cell_type": "code",
   "execution_count": null,
   "metadata": {},
   "outputs": [],
   "source": [
    "\n",
    "icon_brush = widgets.Icon.from_file(glue.icons.icon_path('glue_square', icon_format='svg'))\n",
    "icon_pan = widgets.Icon.from_file(glue.icons.icon_path('glue_move', icon_format='svg'))\n",
    "icon_brush_x = widgets.Icon.from_file(glue.icons.icon_path('glue_xrange_select', icon_format='svg'))\n",
    "icon_brush_y = widgets.Icon.from_file(glue.icons.icon_path('glue_yrange_select', icon_format='svg'))\n",
    "icon_brush_lasso = widgets.Icon.from_file(glue.icons.icon_path('glue_lasso', icon_format='svg'))\n",
    "\n",
    "icons = [icon_pan, icon_brush, icon_brush_x, icon_brush_y, icon_brush_lasso]\n",
    "toggle_buttons = widgets.ToggleButtons(options=['Pan/zoom', 'Brush'], icons=icons)\n",
    "\n",
    "\n",
    "button_png = widgets.Button(description='png', icon='save')\n",
    "button_svg = widgets.Button(description='svg', icon='save')\n",
    "fullscreen = widgets.Button(description='', icon='arrows-alt')"
   ]
  },
  {
   "cell_type": "code",
   "execution_count": null,
   "metadata": {},
   "outputs": [],
   "source": [
    "for icon in icons:\n",
    "    icon.width = 24"
   ]
  },
  {
   "cell_type": "code",
   "execution_count": null,
   "metadata": {},
   "outputs": [],
   "source": [
    "import bqplot.pyplot as plt\n",
    "import ipywidgets as widgets\n",
    "import numpy as np\n",
    "import bqplot\n",
    "fig = plt.figure()\n",
    "x = np.linspace(0, 2, 10)\n",
    "y = x**2\n",
    "s = plt.scatter(x, y, display_legend=True)\n",
    "# s = plt.scatter(x, y+0.2, display_legend=True)\n",
    "# s.unselected_style = {'fill': 'red', 'stroke': 'none'} # now unselected points are red again\n",
    "s.selected_style = {'fill': 'orange', 'stroke': 'blue'} # now unselected points are red again\n",
    "# plt.show()\n",
    "# s.selected = [1,4,6]\n",
    "# s.unselected_style = {'fill': 'orange', 'stroke': 'none'}"
   ]
  },
  {
   "cell_type": "code",
   "execution_count": null,
   "metadata": {},
   "outputs": [],
   "source": [
    "marks = [s]\n",
    "scale_x = s.scales['x']\n",
    "scale_y = s.scales['y']\n",
    "in1 = bqplot.PanZoom(scales={'x': [scale_x], 'y': [scale_y]})\n",
    "in2 = bqplot.interacts.BrushSelector(x_scale=scale_x, y_scale=scale_y, marks=marks)\n",
    "brush_x = bqplot.interacts.BrushIntervalSelector(scale=scale_x, color=\"green\", marks=marks)\n",
    "brush_y = bqplot.interacts.BrushIntervalSelector(scale=scale_y, color=\"green\", orientation='vertical', marks=marks)\n",
    "lasso = bqplot.interacts.LassoSelector(x_scale=scale_x, y_scale=scale_y, marks=marks)"
   ]
  },
  {
   "cell_type": "code",
   "execution_count": null,
   "metadata": {},
   "outputs": [],
   "source": [
    "toggle_buttons = widgets.ToggleButtons(options=[(' ' * k, str(k)) for k in range(len(icons))], icons=icons)\n",
    "tbw = bqplot.ToolbarWidget(actions=[(button_png, 'save_png'), (button_svg, 'save_svg'), (fullscreen, 'fullscreen')],\n",
    "                           child=fig,\n",
    "                          interacts=[in1, in2, brush_x, brush_y, lasso],\n",
    "                          toolbar_widgets=[toggle_buttons])"
   ]
  },
  {
   "cell_type": "code",
   "execution_count": null,
   "metadata": {},
   "outputs": [],
   "source": [
    "widgets.jslink((toggle_buttons, 'index'), (tbw, 'interact_index'))\n",
    "widgets.jslink((tbw, 'interact'), (fig, 'interaction'))"
   ]
  },
  {
   "cell_type": "code",
   "execution_count": null,
   "metadata": {},
   "outputs": [],
   "source": [
    "fig.layout.min_width = '500px'\n",
    "fig.layout.min_height = '500px'"
   ]
  },
  {
   "cell_type": "code",
   "execution_count": null,
   "metadata": {},
   "outputs": [],
   "source": [
    "tbw"
   ]
  },
  {
   "cell_type": "code",
   "execution_count": null,
   "metadata": {},
   "outputs": [],
   "source": [
    "button.icon = 'save'\n",
    "button.description = 'png'\n",
    "fullscreen.icon = 'arrows-alt'\n",
    "fullscreen.description = ''\n",
    "fullscreen.layout.width = '52px'\n",
    "fullscreen.layout.max_width = '50px'\n",
    "fullscreen.layout.min_width = '50px'\n",
    "fullscreen.layout.visibility = 'visible'"
   ]
  },
  {
   "cell_type": "code",
   "execution_count": null,
   "metadata": {},
   "outputs": [],
   "source": [
    "toggle_buttons.style.button_width = '50px'"
   ]
  },
  {
   "cell_type": "code",
   "execution_count": null,
   "metadata": {},
   "outputs": [],
   "source": []
  }
 ],
 "metadata": {
  "kernelspec": {
   "display_name": "Python 3",
   "language": "python",
   "name": "python3"
  },
  "language_info": {
   "codemirror_mode": {
    "name": "ipython",
    "version": 3
   },
   "file_extension": ".py",
   "mimetype": "text/x-python",
   "name": "python",
   "nbconvert_exporter": "python",
   "pygments_lexer": "ipython3",
   "version": "3.6.4"
  }
 },
 "nbformat": 4,
 "nbformat_minor": 2
}
