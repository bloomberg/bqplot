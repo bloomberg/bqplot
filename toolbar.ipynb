{
 "cells": [
  {
   "cell_type": "code",
   "execution_count": null,
   "metadata": {},
   "outputs": [],
   "source": [
    "import bqplot\n",
    "import ipywidgets as widgets\n",
    "import glue.icons"
   ]
  },
  {
   "cell_type": "code",
   "execution_count": null,
   "metadata": {},
   "outputs": [],
   "source": [
    "import bqplot.pyplot as plt\n",
    "import ipywidgets as widgets\n",
    "import numpy as np\n",
    "import bqplot\n",
    "fig = plt.figure()\n",
    "x = np.linspace(0, 2, 10)\n",
    "y = x**2\n",
    "s = plt.scatter(x, y, display_legend=True)\n",
    "s.selected_style = {'fill': 'orange', 'stroke': 'blue'}"
   ]
  },
  {
   "cell_type": "code",
   "execution_count": null,
   "metadata": {},
   "outputs": [],
   "source": [
    "icon_pan = 'arrows'\n",
    "icon_brush = icon_brush_x = icon_brush_y = icon_brush_lasso = None#'pencil-square-o'\n",
    "\n",
    "\n",
    "toggle_button_pan = widgets.ToggleButton(description='Pan/zoom', icon=icon_pan)\n",
    "toggle_button_pan = widgets.ToggleButton(description='Pan/zoom', icon=icon_pan)\n",
    "\n",
    "\n",
    "action_fullscreen = widgets.Action(command='fullscreen', icon='arrows-alt', description='')\n",
    "button_fullscreen = widgets.Button(description='', default_action=action_fullscreen)\n",
    "\n",
    "action_png = widgets.Menu(command='save_png', icon='save', description='Save to PNG')\n",
    "action_svg = widgets.Menu(command='save_svg', icon='save', description='Save to SVG')\n",
    "menu_save = widgets.Menu(items=[action_png, action_svg])\n",
    "button_save = widgets.Button(menu=menu_save, description='Save', icon='save', menu_delay=0)\n",
    "\n",
    "\n",
    "menu_select_rectangle = widgets.Menu(description='Rectangle', icon=icon_brush)\n",
    "menu_select_x = widgets.Menu(description='X region', icon=icon_brush_x)\n",
    "menu_select_y = widgets.Menu(description='Y region', icon=icon_brush_y)\n",
    "menu_select_lasso = widgets.Menu(description='Lasso', icon=icon_brush_lasso)\n",
    "menu_items_select = [menu_select_rectangle, menu_select_x, menu_select_y, menu_select_lasso]\n",
    "for menu_item in menu_items_select:\n",
    "    menu_item.checkable = True\n",
    "menu_select_rectangle.value = True\n",
    "menu_select = widgets.Menu(items=menu_items_select)\n"
   ]
  },
  {
   "cell_type": "code",
   "execution_count": null,
   "metadata": {},
   "outputs": [],
   "source": [
    "scale_x = s.scales['x']\n",
    "scale_y = s.scales['y']\n",
    "marks = fig.marks\n",
    "\n",
    "button_select = widgets.Button(menu=menu_select, default_action=menu_select_rectangle, menu_delay=0.5, icon='pencil-square-o')\n",
    "\n",
    "interact_panzoom = bqplot.PanZoom(scales={'x': [scale_x], 'y': [scale_y]})\n",
    "interact_brush = bqplot.interacts.BrushSelector(x_scale=scale_x, y_scale=scale_y, marks=marks)\n",
    "interact_brush_x = bqplot.interacts.BrushIntervalSelector(scale=scale_x, color=\"green\", marks=marks)\n",
    "interact_brush_y = bqplot.interacts.BrushIntervalSelector(scale=scale_y, color=\"green\", orientation='vertical', marks=marks)\n",
    "interact_lasso = bqplot.interacts.LassoSelector(x_scale=scale_x, y_scale=scale_y, marks=marks)\n",
    "interactions = [interact_panzoom, interact_brush, interact_brush_x, interact_brush_y, interact_lasso]\n",
    "group = widgets.BooleanGroup(group=[toggle_button_pan] + menu_items_select, widgets=interactions)\n",
    "group_select = widgets.BooleanGroup(group=menu_items_select)#, widgets=interactions[1:])\n",
    "widgets.jslink((group_select, 'last_selected'), (button_select, 'default_action'))\n",
    "group_select.index = 0\n",
    "widgets.jslink((group, 'selected_widget'), (fig, 'interaction'))\n",
    "widgets.jslink((group, 'selected'), (group_select, 'selected'))\n",
    "group.index = 0\n"
   ]
  },
  {
   "cell_type": "code",
   "execution_count": null,
   "metadata": {},
   "outputs": [],
   "source": [
    "group_select.last_selected"
   ]
  },
  {
   "cell_type": "code",
   "execution_count": null,
   "metadata": {},
   "outputs": [],
   "source": [
    "tbw = bqplot.ToolbarWidget(child=fig, toolbar_widgets=[toggle_button_pan, button_select, button_save, button_fullscreen])"
   ]
  },
  {
   "cell_type": "code",
   "execution_count": null,
   "metadata": {},
   "outputs": [],
   "source": [
    "tbw"
   ]
  },
  {
   "cell_type": "code",
   "execution_count": null,
   "metadata": {},
   "outputs": [],
   "source": [
    "# fig.layout.min_width = '500px'\n",
    "# fig.layout.min_height = '500px'"
   ]
  },
  {
   "cell_type": "code",
   "execution_count": null,
   "metadata": {},
   "outputs": [],
   "source": [
    "# button.icon = 'save'\n",
    "# button.description = 'png'\n",
    "# # fullscreen.icon = 'arrows-alt'\n",
    "# fullscreen.description = ''\n",
    "# fullscreen.layout.width = '52px'\n",
    "# fullscreen.layout.max_width = '50px'\n",
    "# fullscreen.layout.min_width = '50px'\n",
    "# fullscreen.layout.visibility = 'visible'"
   ]
  }
 ],
 "metadata": {
  "kernelspec": {
   "display_name": "Python 3",
   "language": "python",
   "name": "python3"
  },
  "language_info": {
   "codemirror_mode": {
    "name": "ipython",
    "version": 3
   },
   "file_extension": ".py",
   "mimetype": "text/x-python",
   "name": "python",
   "nbconvert_exporter": "python",
   "pygments_lexer": "ipython3",
   "version": "3.6.4"
  }
 },
 "nbformat": 4,
 "nbformat_minor": 2
}
