{
 "cells": [
  {
   "cell_type": "code",
   "execution_count": null,
   "id": "645ca8e2",
   "metadata": {},
   "outputs": [],
   "source": [
    "from bqplot import *\n",
    "import numpy as np\n",
    "import string\n",
    "\n",
    "np.random.seed(0)\n",
    "data = np.random.rand(7)\n",
    "pie = Pie(sizes=data, display_labels='outside', labels=list(string.ascii_uppercase))\n",
    "fig = Figure(marks=[pie])\n",
    "fig"
   ]
  },
  {
   "cell_type": "code",
   "execution_count": null,
   "id": "22f6826f",
   "metadata": {},
   "outputs": [],
   "source": [
    "n = np.random.randint(1, 10)\n",
    "pie.sizes = np.random.rand(n)"
   ]
  },
  {
   "cell_type": "code",
   "execution_count": null,
   "id": "992dc51d",
   "metadata": {},
   "outputs": [],
   "source": [
    "pie.display_values = True"
   ]
  },
  {
   "cell_type": "code",
   "execution_count": null,
   "id": "b3f665ec",
   "metadata": {},
   "outputs": [],
   "source": [
    "pie.values_format = '.2f'"
   ]
  },
  {
   "cell_type": "code",
   "execution_count": null,
   "id": "490a7c65",
   "metadata": {},
   "outputs": [],
   "source": [
    "pie.sort = True"
   ]
  },
  {
   "cell_type": "code",
   "execution_count": null,
   "id": "e1eab0c5",
   "metadata": {},
   "outputs": [],
   "source": [
    "pie.label_color = 'gray'"
   ]
  },
  {
   "cell_type": "code",
   "execution_count": null,
   "id": "121de028",
   "metadata": {},
   "outputs": [],
   "source": [
    "pie.label_color = None"
   ]
  },
  {
   "cell_type": "code",
   "execution_count": null,
   "id": "ee306dda",
   "metadata": {},
   "outputs": [],
   "source": [
    "pie.font_size = '13px'"
   ]
  },
  {
   "cell_type": "code",
   "execution_count": null,
   "id": "482909d4",
   "metadata": {},
   "outputs": [],
   "source": [
    "pie.font_weight = 'bold'"
   ]
  },
  {
   "cell_type": "code",
   "execution_count": null,
   "id": "662437c0",
   "metadata": {},
   "outputs": [],
   "source": [
    "pie.radius = 150"
   ]
  },
  {
   "cell_type": "code",
   "execution_count": null,
   "id": "b7358bd0",
   "metadata": {},
   "outputs": [],
   "source": [
    "pie.inner_radius = 100"
   ]
  },
  {
   "cell_type": "code",
   "execution_count": null,
   "id": "b755a25b",
   "metadata": {},
   "outputs": [],
   "source": [
    "pie.start_angle = -90"
   ]
  },
  {
   "cell_type": "code",
   "execution_count": null,
   "id": "41087848",
   "metadata": {},
   "outputs": [],
   "source": [
    "pie.end_angle = 90"
   ]
  },
  {
   "cell_type": "code",
   "execution_count": null,
   "id": "3716b6d5",
   "metadata": {},
   "outputs": [],
   "source": [
    "pie.stroke = 'white'"
   ]
  },
  {
   "cell_type": "code",
   "execution_count": null,
   "id": "d6464511",
   "metadata": {},
   "outputs": [],
   "source": [
    "pie.sort = False"
   ]
  },
  {
   "cell_type": "code",
   "execution_count": null,
   "id": "22bf553c",
   "metadata": {},
   "outputs": [],
   "source": [
    "pie.colors = ['orange', 'darkviolet']"
   ]
  },
  {
   "cell_type": "code",
   "execution_count": null,
   "id": "75ab70c9",
   "metadata": {},
   "outputs": [],
   "source": [
    "pie.opacities = [0.3, 0.8]"
   ]
  },
  {
   "cell_type": "code",
   "execution_count": null,
   "id": "2d563d46",
   "metadata": {},
   "outputs": [],
   "source": [
    "pie.labels = [label + '_1' for label in pie.labels]"
   ]
  },
  {
   "cell_type": "code",
   "execution_count": null,
   "id": "6299dce2",
   "metadata": {},
   "outputs": [],
   "source": [
    "# pie.display_labels = 'inside'"
   ]
  },
  {
   "cell_type": "code",
   "execution_count": null,
   "id": "af13dcfe",
   "metadata": {},
   "outputs": [],
   "source": [
    "pie.selected_style = {'fill': 'green'}\n",
    "pie.unselected_style = {'fill': 'red'}\n",
    "pie.selected = [0, 3, 4]"
   ]
  }
 ],
 "metadata": {
  "kernelspec": {
   "display_name": "Python 3",
   "language": "python",
   "name": "python3"
  },
  "language_info": {
   "codemirror_mode": {
    "name": "ipython",
    "version": 3
   },
   "file_extension": ".py",
   "mimetype": "text/x-python",
   "name": "python",
   "nbconvert_exporter": "python",
   "pygments_lexer": "ipython3",
   "version": "3.9.5"
  }
 },
 "nbformat": 4,
 "nbformat_minor": 5
}
