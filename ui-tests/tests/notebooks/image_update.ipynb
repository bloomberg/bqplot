{
 "cells": [
  {
   "cell_type": "code",
   "execution_count": null,
   "id": "7a144f62",
   "metadata": {},
   "outputs": [],
   "source": [
    "import os\n",
    "\n",
    "import ipywidgets as widgets\n",
    "from bqplot import *\n",
    "\n",
    "image_path = os.path.abspath('./trees.jpg')\n",
    "\n",
    "with open(image_path, 'rb') as f:\n",
    "    raw_image = f.read()\n",
    "ipyimage = widgets.Image(value=raw_image, format='jpg')\n",
    "\n",
    "scales = {'x': LinearScale(min=-1, max=2), 'y': LinearScale(min=-0.5, max=2)}\n",
    "image = Image(image=ipyimage, scales=scales)\n",
    "fig = Figure(marks=[image], padding_x=0, padding_y=0)\n",
    "fig.axes = [Axis(scale=scales['x']), Axis(scale=scales['y'], orientation='vertical')]\n",
    "fig"
   ]
  },
  {
   "cell_type": "code",
   "execution_count": null,
   "id": "10f8dda1",
   "metadata": {},
   "outputs": [],
   "source": [
    "image.x = [-1, 2]"
   ]
  },
  {
   "cell_type": "code",
   "execution_count": null,
   "id": "3305d315",
   "metadata": {},
   "outputs": [],
   "source": [
    "image.y = [-.5, 2]"
   ]
  }
 ],
 "metadata": {
  "kernelspec": {
   "display_name": "Python 3",
   "language": "python",
   "name": "python3"
  },
  "language_info": {
   "codemirror_mode": {
    "name": "ipython",
    "version": 3
   },
   "file_extension": ".py",
   "mimetype": "text/x-python",
   "name": "python",
   "nbconvert_exporter": "python",
   "pygments_lexer": "ipython3",
   "version": "3.9.2"
  }
 },
 "nbformat": 4,
 "nbformat_minor": 5
}
